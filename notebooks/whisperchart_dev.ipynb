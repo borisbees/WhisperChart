{
 "cells": [
  {
   "cell_type": "markdown",
   "metadata": {},
   "source": [
    "# WhisperChart Dev Notebook\n",
    "\n",
    "This notebook is your sandbox for training, testing, and experimenting with models for WhisperChart.\n",
    "\n",
    "- Train models\n",
    "- Run backtests\n",
    "- Explore features\n",
    "- Export ready models to \"/models\"\n",
    "\n",
    "Keep this up-to-date as your main R&D record!"
   ]
  }
 ],
 "metadata": {
  "kernelspec": {
   "display_name": "Python 3",
   "language": "python",
   "name": "python3"
  },
  "language_info": {
   "name": "python",
   "version": ""
  }
 },
 "nbformat": 4,
 "nbformat_minor": 2
}
